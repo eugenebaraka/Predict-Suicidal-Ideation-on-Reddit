{
 "cells": [
  {
   "cell_type": "code",
   "execution_count": 2,
   "metadata": {},
   "outputs": [],
   "source": [
    "import numpy as np\n",
    "import pandas as pd\n",
    "import seaborn as sns\n",
    "from nltk.tokenize import word_tokenize\n",
    "from nltk.probability import FreqDist\n",
    "import math"
   ]
  },
  {
   "cell_type": "code",
   "execution_count": 18,
   "metadata": {},
   "outputs": [
    {
     "data": {
      "text/html": [
       "<div>\n",
       "<style scoped>\n",
       "    .dataframe tbody tr th:only-of-type {\n",
       "        vertical-align: middle;\n",
       "    }\n",
       "\n",
       "    .dataframe tbody tr th {\n",
       "        vertical-align: top;\n",
       "    }\n",
       "\n",
       "    .dataframe thead th {\n",
       "        text-align: right;\n",
       "    }\n",
       "</style>\n",
       "<table border=\"1\" class=\"dataframe\">\n",
       "  <thead>\n",
       "    <tr style=\"text-align: right;\">\n",
       "      <th></th>\n",
       "      <th>text</th>\n",
       "      <th>class</th>\n",
       "    </tr>\n",
       "  </thead>\n",
       "  <tbody>\n",
       "    <tr>\n",
       "      <th>0</th>\n",
       "      <td>Ex Wife Threatening SuicideRecently I left my ...</td>\n",
       "      <td>suicide</td>\n",
       "    </tr>\n",
       "    <tr>\n",
       "      <th>1</th>\n",
       "      <td>Am I weird I don't get affected by compliments...</td>\n",
       "      <td>non-suicide</td>\n",
       "    </tr>\n",
       "    <tr>\n",
       "      <th>2</th>\n",
       "      <td>Finally 2020 is almost over... So I can never ...</td>\n",
       "      <td>non-suicide</td>\n",
       "    </tr>\n",
       "    <tr>\n",
       "      <th>3</th>\n",
       "      <td>i need helpjust help me im crying so hard</td>\n",
       "      <td>suicide</td>\n",
       "    </tr>\n",
       "    <tr>\n",
       "      <th>4</th>\n",
       "      <td>I’m so lostHello, my name is Adam (16) and I’v...</td>\n",
       "      <td>suicide</td>\n",
       "    </tr>\n",
       "  </tbody>\n",
       "</table>\n",
       "</div>"
      ],
      "text/plain": [
       "                                                text        class\n",
       "0  Ex Wife Threatening SuicideRecently I left my ...      suicide\n",
       "1  Am I weird I don't get affected by compliments...  non-suicide\n",
       "2  Finally 2020 is almost over... So I can never ...  non-suicide\n",
       "3          i need helpjust help me im crying so hard      suicide\n",
       "4  I’m so lostHello, my name is Adam (16) and I’v...      suicide"
      ]
     },
     "execution_count": 18,
     "metadata": {},
     "output_type": "execute_result"
    }
   ],
   "source": [
    "# Read in text data\n",
    "\n",
    "reddit_data = pd.read_csv(\"/Users/eugen/Desktop/Work/BrainStation/Suicide Project/Suicide_Detection.csv\", index_col = 0).reset_index(drop=True) #with open()\n",
    "reddit_data.head()"
   ]
  },
  {
   "cell_type": "markdown",
   "metadata": {},
   "source": [
    "## Data Pre-processing and Cleaning"
   ]
  },
  {
   "cell_type": "code",
   "execution_count": 19,
   "metadata": {},
   "outputs": [
    {
     "name": "stdout",
     "output_type": "stream",
     "text": [
      "Dataset has 232074 and 2 columns\n"
     ]
    }
   ],
   "source": [
    "print(f\"Dataset has {reddit_data.shape[0]} and {reddit_data.shape[1]} columns\")"
   ]
  },
  {
   "cell_type": "code",
   "execution_count": 20,
   "metadata": {},
   "outputs": [
    {
     "name": "stdout",
     "output_type": "stream",
     "text": [
      "<class 'pandas.core.frame.DataFrame'>\n",
      "RangeIndex: 232074 entries, 0 to 232073\n",
      "Data columns (total 2 columns):\n",
      " #   Column  Non-Null Count   Dtype \n",
      "---  ------  --------------   ----- \n",
      " 0   text    232074 non-null  object\n",
      " 1   class   232074 non-null  object\n",
      "dtypes: object(2)\n",
      "memory usage: 3.5+ MB\n"
     ]
    }
   ],
   "source": [
    "reddit_data.info() #no missing values and both columns are in the right format"
   ]
  },
  {
   "cell_type": "code",
   "execution_count": 21,
   "metadata": {},
   "outputs": [
    {
     "data": {
      "text/plain": [
       "array([\"Ex Wife Threatening SuicideRecently I left my wife for good because she has cheated on me twice and lied to me so much that I have decided to refuse to go back to her. As of a few days ago, she began threatening suicide. I have tirelessly spent these paat few days talking her out of it and she keeps hesitating because she wants to believe I'll come back. I know a lot of people will threaten this in order to get their way, but what happens if she really does? What do I do and how am I supposed to handle her death on my hands? I still love my wife but I cannot deal with getting cheated on again and constantly feeling insecure. I'm worried today may be the day she does it and I hope so much it doesn't happen.\",\n",
       "       \"Am I weird I don't get affected by compliments if it's coming from someone I know irl but I feel really good when internet strangers do it\",\n",
       "       'Finally 2020 is almost over... So I can never hear \"2020 has been a bad year\" ever again. I swear to fucking God it\\'s so annoying',\n",
       "       ...,\n",
       "       'pee probably tastes like salty tea😏💦‼️ can someone who drank pee before confirm this🙄‼️',\n",
       "       'The usual stuff you find hereI\\'m not posting this for sympathy or pity because I know there are far worse situations then mine but I just want to get this stuff out there. \\n\\nBut it just seems in my life that there is no point to. Everything I have done in life I have ruined or quit, I have isolated myself from everyone even my own family. Not even like telling them (my family) would help, they\\'d just consider me psychotic and they are probably right for all I know.  I\\'m 18 and have no sense on what the fuck the universe wants from me, and thinking about it, seems like the universe fucked up when they made me ( I know that\\'s not how I\\'m \"made\" just fuck off) because I don\\'t think it knows what it wants from me, and all I get from people trying to help is how they went through \"rough patches\" and just got to tough it out. I\\'m done \"toughing\" it out, life shouldn\\'t be toughing it out. I look around in my family and since I\\'m the youngest I\\'ve seen all the ridiculous shit that has happened to them all and it\\'s fucked, And I post this in this area because this isn\\'t the first time I have felt like this, I have tried to take my life before, and couldn\\'t do it. WHAT A BITCH I KNOW, I mean seriously what cruel joke is being played on me. I despise my life and just want to know what it would be like if i ended it and I can\\'t even do that. It\\'s so fucked too because whenever I was around \"friends\" I would just put on this macho toughness guy like nothing hurt me and I just kept everything bottled up, and there shouldn\\'t be anything in my life that I should complain about because I had the option to make it better but what good would come of it. I failed out of college because of this and I will probably never get back of track, so that light so-called light at the end of the tunnel is getting smaller by the day. ',\n",
       "       \"I still haven't beaten the first boss in Hollow Knight. I've only fought it a few times and I always die really early in the fight. I'm terrible at this game y'all. :(\"],\n",
       "      dtype=object)"
      ]
     },
     "execution_count": 21,
     "metadata": {},
     "output_type": "execute_result"
    }
   ],
   "source": [
    "reddit_data.text.unique()"
   ]
  },
  {
   "cell_type": "markdown",
   "metadata": {},
   "source": [
    "The text column contains reddit posts for the users; however, it is very messy. We need to thoroughly clean each text because our analysis and model performance will depend on it. Let's take a look at a few "
   ]
  },
  {
   "cell_type": "code",
   "execution_count": null,
   "metadata": {},
   "outputs": [],
   "source": []
  }
 ],
 "metadata": {
  "kernelspec": {
   "display_name": "Python 3.10.4 ('CapstoneProject')",
   "language": "python",
   "name": "python3"
  },
  "language_info": {
   "codemirror_mode": {
    "name": "ipython",
    "version": 3
   },
   "file_extension": ".py",
   "mimetype": "text/x-python",
   "name": "python",
   "nbconvert_exporter": "python",
   "pygments_lexer": "ipython3",
   "version": "3.10.4"
  },
  "orig_nbformat": 4,
  "vscode": {
   "interpreter": {
    "hash": "54a460ec127539dfac081485f38c92e43c732149412361e86597afed93cd99b2"
   }
  }
 },
 "nbformat": 4,
 "nbformat_minor": 2
}
