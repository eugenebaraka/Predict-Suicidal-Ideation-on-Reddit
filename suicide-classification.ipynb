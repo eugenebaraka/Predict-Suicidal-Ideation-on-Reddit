{
 "cells": [
  {
   "cell_type": "code",
   "execution_count": 16,
   "metadata": {},
   "outputs": [
    {
     "name": "stdout",
     "output_type": "stream",
     "text": [
      "Requirement already satisfied: advertools in /Users/eugen/opt/anaconda3/envs/CapstoneProject/lib/python3.10/site-packages (0.13.1)\n",
      "Requirement already satisfied: twython in /Users/eugen/opt/anaconda3/envs/CapstoneProject/lib/python3.10/site-packages (from advertools) (3.9.1)\n",
      "Requirement already satisfied: pyarrow in /Users/eugen/opt/anaconda3/envs/CapstoneProject/lib/python3.10/site-packages (from advertools) (9.0.0)\n",
      "Requirement already satisfied: scrapy in /Users/eugen/opt/anaconda3/envs/CapstoneProject/lib/python3.10/site-packages (from advertools) (2.6.2)\n",
      "Requirement already satisfied: pandas in /Users/eugen/opt/anaconda3/envs/CapstoneProject/lib/python3.10/site-packages (from advertools) (1.4.3)\n",
      "Requirement already satisfied: pyasn1 in /Users/eugen/opt/anaconda3/envs/CapstoneProject/lib/python3.10/site-packages (from advertools) (0.4.8)\n",
      "Requirement already satisfied: python-dateutil>=2.8.1 in /Users/eugen/opt/anaconda3/envs/CapstoneProject/lib/python3.10/site-packages (from pandas->advertools) (2.8.2)\n",
      "Requirement already satisfied: pytz>=2020.1 in /Users/eugen/opt/anaconda3/envs/CapstoneProject/lib/python3.10/site-packages (from pandas->advertools) (2022.1)\n",
      "Requirement already satisfied: numpy>=1.21.0 in /Users/eugen/opt/anaconda3/envs/CapstoneProject/lib/python3.10/site-packages (from pandas->advertools) (1.23.1)\n",
      "Requirement already satisfied: service-identity>=16.0.0 in /Users/eugen/opt/anaconda3/envs/CapstoneProject/lib/python3.10/site-packages (from scrapy->advertools) (21.1.0)\n",
      "Requirement already satisfied: Twisted>=17.9.0 in /Users/eugen/opt/anaconda3/envs/CapstoneProject/lib/python3.10/site-packages (from scrapy->advertools) (22.4.0)\n",
      "Requirement already satisfied: setuptools in /Users/eugen/opt/anaconda3/envs/CapstoneProject/lib/python3.10/site-packages (from scrapy->advertools) (61.2.0)\n",
      "Requirement already satisfied: protego>=0.1.15 in /Users/eugen/opt/anaconda3/envs/CapstoneProject/lib/python3.10/site-packages (from scrapy->advertools) (0.2.1)\n",
      "Requirement already satisfied: PyDispatcher>=2.0.5 in /Users/eugen/opt/anaconda3/envs/CapstoneProject/lib/python3.10/site-packages (from scrapy->advertools) (2.0.5)\n",
      "Requirement already satisfied: itemloaders>=1.0.1 in /Users/eugen/opt/anaconda3/envs/CapstoneProject/lib/python3.10/site-packages (from scrapy->advertools) (1.0.4)\n",
      "Requirement already satisfied: pyOpenSSL>=16.2.0 in /Users/eugen/opt/anaconda3/envs/CapstoneProject/lib/python3.10/site-packages (from scrapy->advertools) (22.0.0)\n",
      "Requirement already satisfied: cryptography>=2.0 in /Users/eugen/opt/anaconda3/envs/CapstoneProject/lib/python3.10/site-packages (from scrapy->advertools) (37.0.1)\n",
      "Requirement already satisfied: queuelib>=1.4.2 in /Users/eugen/opt/anaconda3/envs/CapstoneProject/lib/python3.10/site-packages (from scrapy->advertools) (1.6.2)\n",
      "Requirement already satisfied: w3lib>=1.17.0 in /Users/eugen/opt/anaconda3/envs/CapstoneProject/lib/python3.10/site-packages (from scrapy->advertools) (2.0.1)\n",
      "Requirement already satisfied: zope.interface>=4.1.3 in /Users/eugen/opt/anaconda3/envs/CapstoneProject/lib/python3.10/site-packages (from scrapy->advertools) (5.4.0)\n",
      "Requirement already satisfied: lxml>=3.5.0 in /Users/eugen/opt/anaconda3/envs/CapstoneProject/lib/python3.10/site-packages (from scrapy->advertools) (4.9.1)\n",
      "Requirement already satisfied: parsel>=1.5.0 in /Users/eugen/opt/anaconda3/envs/CapstoneProject/lib/python3.10/site-packages (from scrapy->advertools) (1.6.0)\n",
      "Requirement already satisfied: tldextract in /Users/eugen/opt/anaconda3/envs/CapstoneProject/lib/python3.10/site-packages (from scrapy->advertools) (3.3.1)\n",
      "Requirement already satisfied: itemadapter>=0.1.0 in /Users/eugen/opt/anaconda3/envs/CapstoneProject/lib/python3.10/site-packages (from scrapy->advertools) (0.7.0)\n",
      "Requirement already satisfied: cssselect>=0.9.1 in /Users/eugen/opt/anaconda3/envs/CapstoneProject/lib/python3.10/site-packages (from scrapy->advertools) (1.1.0)\n",
      "Requirement already satisfied: requests>=2.1.0 in /Users/eugen/opt/anaconda3/envs/CapstoneProject/lib/python3.10/site-packages (from twython->advertools) (2.28.1)\n",
      "Requirement already satisfied: requests-oauthlib>=0.4.0 in /Users/eugen/opt/anaconda3/envs/CapstoneProject/lib/python3.10/site-packages (from twython->advertools) (1.3.1)\n",
      "Requirement already satisfied: cffi>=1.12 in /Users/eugen/opt/anaconda3/envs/CapstoneProject/lib/python3.10/site-packages (from cryptography>=2.0->scrapy->advertools) (1.15.1)\n",
      "Requirement already satisfied: jmespath>=0.9.5 in /Users/eugen/opt/anaconda3/envs/CapstoneProject/lib/python3.10/site-packages (from itemloaders>=1.0.1->scrapy->advertools) (1.0.1)\n",
      "Requirement already satisfied: six>=1.6.0 in /Users/eugen/opt/anaconda3/envs/CapstoneProject/lib/python3.10/site-packages (from parsel>=1.5.0->scrapy->advertools) (1.16.0)\n",
      "Requirement already satisfied: certifi>=2017.4.17 in /Users/eugen/opt/anaconda3/envs/CapstoneProject/lib/python3.10/site-packages (from requests>=2.1.0->twython->advertools) (2022.6.15)\n",
      "Requirement already satisfied: charset-normalizer<3,>=2 in /Users/eugen/opt/anaconda3/envs/CapstoneProject/lib/python3.10/site-packages (from requests>=2.1.0->twython->advertools) (2.0.4)\n",
      "Requirement already satisfied: urllib3<1.27,>=1.21.1 in /Users/eugen/opt/anaconda3/envs/CapstoneProject/lib/python3.10/site-packages (from requests>=2.1.0->twython->advertools) (1.26.11)\n",
      "Requirement already satisfied: idna<4,>=2.5 in /Users/eugen/opt/anaconda3/envs/CapstoneProject/lib/python3.10/site-packages (from requests>=2.1.0->twython->advertools) (3.3)\n",
      "Requirement already satisfied: oauthlib>=3.0.0 in /Users/eugen/opt/anaconda3/envs/CapstoneProject/lib/python3.10/site-packages (from requests-oauthlib>=0.4.0->twython->advertools) (3.2.0)\n",
      "Requirement already satisfied: attrs>=19.1.0 in /Users/eugen/opt/anaconda3/envs/CapstoneProject/lib/python3.10/site-packages (from service-identity>=16.0.0->scrapy->advertools) (22.1.0)\n",
      "Requirement already satisfied: pyasn1-modules in /Users/eugen/opt/anaconda3/envs/CapstoneProject/lib/python3.10/site-packages (from service-identity>=16.0.0->scrapy->advertools) (0.2.8)\n",
      "Requirement already satisfied: constantly>=15.1 in /Users/eugen/opt/anaconda3/envs/CapstoneProject/lib/python3.10/site-packages (from Twisted>=17.9.0->scrapy->advertools) (15.1.0)\n",
      "Requirement already satisfied: typing-extensions>=3.6.5 in /Users/eugen/opt/anaconda3/envs/CapstoneProject/lib/python3.10/site-packages (from Twisted>=17.9.0->scrapy->advertools) (4.3.0)\n",
      "Requirement already satisfied: hyperlink>=17.1.1 in /Users/eugen/opt/anaconda3/envs/CapstoneProject/lib/python3.10/site-packages (from Twisted>=17.9.0->scrapy->advertools) (21.0.0)\n",
      "Requirement already satisfied: incremental>=21.3.0 in /Users/eugen/opt/anaconda3/envs/CapstoneProject/lib/python3.10/site-packages (from Twisted>=17.9.0->scrapy->advertools) (21.3.0)\n",
      "Requirement already satisfied: Automat>=0.8.0 in /Users/eugen/opt/anaconda3/envs/CapstoneProject/lib/python3.10/site-packages (from Twisted>=17.9.0->scrapy->advertools) (20.2.0)\n",
      "Requirement already satisfied: requests-file>=1.4 in /Users/eugen/opt/anaconda3/envs/CapstoneProject/lib/python3.10/site-packages (from tldextract->scrapy->advertools) (1.5.1)\n",
      "Requirement already satisfied: filelock>=3.0.8 in /Users/eugen/opt/anaconda3/envs/CapstoneProject/lib/python3.10/site-packages (from tldextract->scrapy->advertools) (3.8.0)\n",
      "Requirement already satisfied: pycparser in /Users/eugen/opt/anaconda3/envs/CapstoneProject/lib/python3.10/site-packages (from cffi>=1.12->cryptography>=2.0->scrapy->advertools) (2.21)\n",
      "Note: you may need to restart the kernel to use updated packages.\n"
     ]
    }
   ],
   "source": [
    "import numpy as np\n",
    "import pandas as pd\n",
    "import seaborn as sns\n",
    "import matplotlib.pyplot as plt\n",
    "%matplotlib inline\n",
    "\n",
    "from nltk.tokenize import word_tokenize\n",
    "from nltk.probability import FreqDist\n",
    "import math\n",
    "import re\n",
    "\n",
    "%pip install advertools\n",
    "import advertools as adv"
   ]
  },
  {
   "cell_type": "code",
   "execution_count": 17,
   "metadata": {},
   "outputs": [
    {
     "data": {
      "text/html": [
       "<div>\n",
       "<style scoped>\n",
       "    .dataframe tbody tr th:only-of-type {\n",
       "        vertical-align: middle;\n",
       "    }\n",
       "\n",
       "    .dataframe tbody tr th {\n",
       "        vertical-align: top;\n",
       "    }\n",
       "\n",
       "    .dataframe thead th {\n",
       "        text-align: right;\n",
       "    }\n",
       "</style>\n",
       "<table border=\"1\" class=\"dataframe\">\n",
       "  <thead>\n",
       "    <tr style=\"text-align: right;\">\n",
       "      <th></th>\n",
       "      <th>text</th>\n",
       "      <th>class</th>\n",
       "    </tr>\n",
       "  </thead>\n",
       "  <tbody>\n",
       "    <tr>\n",
       "      <th>0</th>\n",
       "      <td>Ex Wife Threatening SuicideRecently I left my ...</td>\n",
       "      <td>suicide</td>\n",
       "    </tr>\n",
       "    <tr>\n",
       "      <th>1</th>\n",
       "      <td>Am I weird I don't get affected by compliments...</td>\n",
       "      <td>non-suicide</td>\n",
       "    </tr>\n",
       "    <tr>\n",
       "      <th>2</th>\n",
       "      <td>Finally 2020 is almost over... So I can never ...</td>\n",
       "      <td>non-suicide</td>\n",
       "    </tr>\n",
       "    <tr>\n",
       "      <th>3</th>\n",
       "      <td>i need helpjust help me im crying so hard</td>\n",
       "      <td>suicide</td>\n",
       "    </tr>\n",
       "    <tr>\n",
       "      <th>4</th>\n",
       "      <td>I’m so lostHello, my name is Adam (16) and I’v...</td>\n",
       "      <td>suicide</td>\n",
       "    </tr>\n",
       "  </tbody>\n",
       "</table>\n",
       "</div>"
      ],
      "text/plain": [
       "                                                text        class\n",
       "0  Ex Wife Threatening SuicideRecently I left my ...      suicide\n",
       "1  Am I weird I don't get affected by compliments...  non-suicide\n",
       "2  Finally 2020 is almost over... So I can never ...  non-suicide\n",
       "3          i need helpjust help me im crying so hard      suicide\n",
       "4  I’m so lostHello, my name is Adam (16) and I’v...      suicide"
      ]
     },
     "execution_count": 17,
     "metadata": {},
     "output_type": "execute_result"
    }
   ],
   "source": [
    "# Read in text data\n",
    "\n",
    "reddit_data = pd.read_csv(\"/Users/eugen/Desktop/Work/BrainStation/Suicide Project/Suicide_Detection.csv\", index_col = 0).reset_index(drop=True)\n",
    "reddit_data.head()"
   ]
  },
  {
   "cell_type": "markdown",
   "metadata": {},
   "source": [
    "## 1. Data Pre-processing and Cleaning"
   ]
  },
  {
   "cell_type": "code",
   "execution_count": 18,
   "metadata": {},
   "outputs": [
    {
     "name": "stdout",
     "output_type": "stream",
     "text": [
      "Dataset has 232074 and 2 columns\n"
     ]
    }
   ],
   "source": [
    "print(f\"Dataset has {reddit_data.shape[0]} and {reddit_data.shape[1]} columns\")"
   ]
  },
  {
   "cell_type": "code",
   "execution_count": 19,
   "metadata": {},
   "outputs": [
    {
     "name": "stdout",
     "output_type": "stream",
     "text": [
      "<class 'pandas.core.frame.DataFrame'>\n",
      "RangeIndex: 232074 entries, 0 to 232073\n",
      "Data columns (total 2 columns):\n",
      " #   Column  Non-Null Count   Dtype \n",
      "---  ------  --------------   ----- \n",
      " 0   text    232074 non-null  object\n",
      " 1   class   232074 non-null  object\n",
      "dtypes: object(2)\n",
      "memory usage: 3.5+ MB\n"
     ]
    }
   ],
   "source": [
    "reddit_data.info() #no missing values and both columns are in the right format"
   ]
  },
  {
   "cell_type": "code",
   "execution_count": null,
   "metadata": {},
   "outputs": [
    {
     "data": {
      "text/html": [
       "<div>\n",
       "<style scoped>\n",
       "    .dataframe tbody tr th:only-of-type {\n",
       "        vertical-align: middle;\n",
       "    }\n",
       "\n",
       "    .dataframe tbody tr th {\n",
       "        vertical-align: top;\n",
       "    }\n",
       "\n",
       "    .dataframe thead th {\n",
       "        text-align: right;\n",
       "    }\n",
       "</style>\n",
       "<table border=\"1\" class=\"dataframe\">\n",
       "  <thead>\n",
       "    <tr style=\"text-align: right;\">\n",
       "      <th></th>\n",
       "      <th>text</th>\n",
       "      <th>class</th>\n",
       "      <th>number_chars</th>\n",
       "      <th>number_words</th>\n",
       "      <th>unique_words</th>\n",
       "      <th>num_questions</th>\n",
       "    </tr>\n",
       "  </thead>\n",
       "  <tbody>\n",
       "    <tr>\n",
       "      <th>0</th>\n",
       "      <td>Ex Wife Threatening SuicideRecently I left my ...</td>\n",
       "      <td>1</td>\n",
       "      <td>715</td>\n",
       "      <td>143</td>\n",
       "      <td>99</td>\n",
       "      <td>2</td>\n",
       "    </tr>\n",
       "    <tr>\n",
       "      <th>1</th>\n",
       "      <td>Am I weird I don't get affected by compliments...</td>\n",
       "      <td>0</td>\n",
       "      <td>138</td>\n",
       "      <td>27</td>\n",
       "      <td>24</td>\n",
       "      <td>0</td>\n",
       "    </tr>\n",
       "    <tr>\n",
       "      <th>2</th>\n",
       "      <td>Finally 2020 is almost over... So I can never ...</td>\n",
       "      <td>0</td>\n",
       "      <td>129</td>\n",
       "      <td>26</td>\n",
       "      <td>25</td>\n",
       "      <td>0</td>\n",
       "    </tr>\n",
       "    <tr>\n",
       "      <th>3</th>\n",
       "      <td>i need helpjust help me im crying so hard</td>\n",
       "      <td>1</td>\n",
       "      <td>41</td>\n",
       "      <td>9</td>\n",
       "      <td>9</td>\n",
       "      <td>0</td>\n",
       "    </tr>\n",
       "    <tr>\n",
       "      <th>4</th>\n",
       "      <td>I’m so lostHello, my name is Adam (16) and I’v...</td>\n",
       "      <td>1</td>\n",
       "      <td>2426</td>\n",
       "      <td>438</td>\n",
       "      <td>254</td>\n",
       "      <td>3</td>\n",
       "    </tr>\n",
       "  </tbody>\n",
       "</table>\n",
       "</div>"
      ],
      "text/plain": [
       "                                                text  class  number_chars  \\\n",
       "0  Ex Wife Threatening SuicideRecently I left my ...      1           715   \n",
       "1  Am I weird I don't get affected by compliments...      0           138   \n",
       "2  Finally 2020 is almost over... So I can never ...      0           129   \n",
       "3          i need helpjust help me im crying so hard      1            41   \n",
       "4  I’m so lostHello, my name is Adam (16) and I’v...      1          2426   \n",
       "\n",
       "   number_words  unique_words  num_questions  \n",
       "0           143            99              2  \n",
       "1            27            24              0  \n",
       "2            26            25              0  \n",
       "3             9             9              0  \n",
       "4           438           254              3  "
      ]
     },
     "metadata": {},
     "output_type": "display_data"
    }
   ],
   "source": [
    "reddit_data['class'] = reddit_data['class'].map({'suicide': 1, 'non-suicide':0}) #mapping 1 to suicide posts and 0 to non-suicide posts\n",
    "#plotting the propotion of suicide vs non-suicide posts\n",
    "plt.bar(reddit_data['class'])"
   ]
  },
  {
   "cell_type": "code",
   "execution_count": 12,
   "metadata": {},
   "outputs": [
    {
     "data": {
      "text/plain": [
       "<AxesSubplot:xlabel='class', ylabel='count'>"
      ]
     },
     "execution_count": 12,
     "metadata": {},
     "output_type": "execute_result"
    },
    {
     "data": {
      "image/png": "[encoded data removed]",
      "text/plain": [
       "<Figure size 432x288 with 1 Axes>"
      ]
     },
     "metadata": {
      "needs_background": "light"
     },
     "output_type": "display_data"
    }
   ],
   "source": [
    "sns.countplot(x='class', data=reddit_data) #proportion of suicide vs nono-suicide posts"
   ]
  },
  {
   "cell_type": "markdown",
   "metadata": {},
   "source": [
    "The text column contains reddit posts for the users; however, it is very messy. We need to thoroughly clean each text because our analysis and model performance will depend on it. \n",
    "\n",
    "In the above snippet, we have:\n",
    "- Contractions: e.g. I'm\n",
    "- Puncuations: e.g. \", !\n",
    "- Emojis\n",
    "- Numbers.\n",
    "\n",
    "In the part below, we are going to expand contractions, lower case all letters, remove punctuations"
   ]
  },
  {
   "cell_type": "code",
   "execution_count": 14,
   "metadata": {},
   "outputs": [],
   "source": [
    "#lowercase all text before expanding contractions\n",
    "reddit_data_cleaned = reddit_data[\"text\"].apply(lambda x: x.lower())"
   ]
  },
  {
   "cell_type": "markdown",
   "metadata": {},
   "source": [
    "### 1.1. Expand contractions"
   ]
  },
  {
   "cell_type": "code",
   "execution_count": 15,
   "metadata": {},
   "outputs": [],
   "source": [
    "# dictionary of common English contractions and their full meaning\n",
    "contractions_dict = {\n",
    "\"ain't\": \"is not\",\n",
    "\"aren't\": \"are not\",\n",
    "\"can't\": \"cannot\",\n",
    "\"can't've\": \"cannot have\",\n",
    "\"'cause\": \"because\",\n",
    "\"could've\": \"could have\",\n",
    "\"couldn't\": \"could not\",\n",
    "\"couldn't've\": \"could not have\",\n",
    "\"didn't\": \"did not\",\n",
    "\"doesn't\": \"does not\",\n",
    "\"don't\": \"do not\",\n",
    "\"hadn't\": \"had not\",\n",
    "\"hadn't've\": \"had not have\",\n",
    "\"hasn't\": \"has not\",\n",
    "\"haven't\": \"have not\",\n",
    "\"he'd\": \"he would\",\n",
    "\"he'd've\": \"he would have\",\n",
    "\"he'll\": \"he will\",\n",
    "\"he'll've\": \"he he will have\",\n",
    "\"he's\": \"he is\",\n",
    "\"how'd\": \"how did\",\n",
    "\"how'd'y\": \"how do you\",\n",
    "\"how'll\": \"how will\",\n",
    "\"how's\": \"how is\",\n",
    "\"how're\": \"how are\",\n",
    "\"I'd\": \"I would\",\n",
    "\"I'd've\": \"I would have\",\n",
    "\"I'll\": \"I will\",\n",
    "\"I'll've\": \"I will have\",\n",
    "\"I'm\": \"I am\",\n",
    "\"I've\": \"I have\",\n",
    "\"i'd\": \"i would\",\n",
    "\"i'd've\": \"i would have\",\n",
    "\"i'll\": \"i will\",\n",
    "\"i'll've\": \"i will have\",\n",
    "\"i'm\": \"i am\",\n",
    "\"i've\": \"i have\",\n",
    "\"isn't\": \"is not\",\n",
    "\"it'd\": \"it would\",\n",
    "\"it'd've\": \"it would have\",\n",
    "\"it'll\": \"it will\",\n",
    "\"it'll've\": \"it will have\",\n",
    "\"it's\": \"it is\",\n",
    "\"let's\": \"let us\",\n",
    "\"ma'am\": \"madam\",\n",
    "\"mayn't\": \"may not\",\n",
    "\"might've\": \"might have\",\n",
    "\"mightn't\": \"might not\",\n",
    "\"mightn't've\": \"might not have\",\n",
    "\"must've\": \"must have\",\n",
    "\"mustn't\": \"must not\",\n",
    "\"mustn't've\": \"must not have\",\n",
    "\"needn't\": \"need not\",\n",
    "\"needn't've\": \"need not have\",\n",
    "\"o'clock\": \"of the clock\",\n",
    "\"oughtn't\": \"ought not\",\n",
    "\"oughtn't've\": \"ought not have\",\n",
    "\"shan't\": \"shall not\",\n",
    "\"sha'n't\": \"shall not\",\n",
    "\"shan't've\": \"shall not have\",\n",
    "\"she'd\": \"she would\",\n",
    "\"she'd've\": \"she would have\",\n",
    "\"she'll\": \"she will\",\n",
    "\"she'll've\": \"she will have\",\n",
    "\"she's\": \"she is\",\n",
    "\"should've\": \"should have\",\n",
    "\"shouldn't\": \"should not\",\n",
    "\"shouldn't've\": \"should not have\",\n",
    "\"so've\": \"so have\",\n",
    "\"so's\": \"so as\",\n",
    "\"that'd\": \"that would\",\n",
    "\"that'd've\": \"that would have\",\n",
    "\"that's\": \"that is\",\n",
    "\"there'd\": \"there would\",\n",
    "\"there'd've\": \"there would have\",\n",
    "\"there's\": \"there is\",\n",
    "\"they'd\": \"they would\",\n",
    "\"they'd've\": \"they would have\",\n",
    "\"they'll\": \"they will\",\n",
    "\"they'll've\": \"they will have\",\n",
    "\"they're\": \"they are\",\n",
    "\"they've\": \"they have\",\n",
    "\"to've\": \"to have\",\n",
    "\"wasn't\": \"was not\",\n",
    "\"we'd\": \"we would\",\n",
    "\"we'd've\": \"we would have\",\n",
    "\"we'll\": \"we will\",\n",
    "\"we'll've\": \"we will have\",\n",
    "\"we're\": \"we are\",\n",
    "\"we've\": \"we have\",\n",
    "\"weren't\": \"were not\",\n",
    "\"what'll\": \"what will\",\n",
    "\"what'll've\": \"what will have\",\n",
    "\"what're\": \"what are\",\n",
    "\"what's\": \"what is\",\n",
    "\"what've\": \"what have\",\n",
    "\"when's\": \"when is\",\n",
    "\"when've\": \"when have\",\n",
    "\"where'd\": \"where did\",\n",
    "\"where's\": \"where is\",\n",
    "\"where've\": \"where have\",\n",
    "\"who'll\": \"who will\",\n",
    "\"who'll've\": \"who will have\",\n",
    "\"who's\": \"who is\",\n",
    "\"who've\": \"who have\",\n",
    "\"why's\": \"why is\",\n",
    "\"why've\": \"why have\",\n",
    "\"will've\": \"will have\",\n",
    "\"won't\": \"will not\",\n",
    "\"won't've\": \"will not have\",\n",
    "\"would've\": \"would have\",\n",
    "\"wouldn't\": \"would not\",\n",
    "\"wouldn't've\": \"would not have\",\n",
    "\"y'all\": \"you all\",\n",
    "\"y'all'd\": \"you all would\",\n",
    "\"y'all'd've\": \"you all would have\",\n",
    "\"y'all're\": \"you all are\",\n",
    "\"y'all've\": \"you all have\",\n",
    "\"you'd\": \"you would\",\n",
    "\"you'd've\": \"you would have\",\n",
    "\"you'll\": \"you will\",\n",
    "\"you'll've\": \"you will have\",\n",
    "\"you're\": \"you are\",\n",
    "\"you've\": \"you have\"\n",
    "}\n",
    "\n",
    "# function to expand contractions\n",
    "def expand_contractions(text: str, contraction_mapping: dict) -> str:\n",
    "    \"\"\"\n",
    "    Takes in a string and a dictionary of contractions and their expansions \n",
    "    Returns an expanded string. \n",
    "    \"\"\"\n",
    "    contractions_pattern = re.compile('({})'.format('|'.join(contraction_mapping.keys())), \n",
    "                                      flags=re.IGNORECASE|re.DOTALL) \n",
    "                                      #re.IGNORECASE = disables case-sensitive matching and enales unicode matching, \n",
    "                                      #re.DOTALL = dot matches all characters\n",
    "    \n",
    "    def expand_match(contraction):\n",
    "        match = contraction.group(0)\n",
    "        first_char = match[0]\n",
    "        expanded_contraction = contraction_mapping.get(match)\\\n",
    "                                if contraction_mapping.get(match)\\\n",
    "                                else contraction_mapping.get(match.lower())                       \n",
    "        expanded_contraction = first_char+expanded_contraction[1:]\n",
    "        return expanded_contraction\n",
    "        \n",
    "    expanded_text = contractions_pattern.sub(expand_match, text)\n",
    "    expanded_text = re.sub(\"'\", \"\", expanded_text)\n",
    "    return expanded_text"
   ]
  },
  {
   "cell_type": "code",
   "execution_count": null,
   "metadata": {},
   "outputs": [],
   "source": [
    "re_pattern = re.compile('(%s)' % '|'.join(contractions_dict.keys()))\n",
    "\n",
    "def expand_contractions(text: str, contractions_dict=contractions_dict) -> str:\n",
    "    \"\"\"\n",
    "    Takes in a string and a dictionary of contractions and their expansions \n",
    "    Returns an expanded string. \n",
    "    \"\"\"\n",
    "    def replace(match):\n",
    "        return contractions_dict[match.group(0)]\n",
    "\n",
    "    return re_pattern.sub(replace, text)\n",
    "  \n",
    "# expnd text contractions in the dataset\n",
    "reddit_data['text'] = reddit_data['text'].apply(lambda x: expand_contractions(x))"
   ]
  },
  {
   "cell_type": "code",
   "execution_count": 58,
   "metadata": {},
   "outputs": [
    {
     "ename": "TypeError",
     "evalue": "'NoneType' object is not subscriptable",
     "output_type": "error",
     "traceback": [
      "\u001b[0;31m---------------------------------------------------------------------------\u001b[0m",
      "\u001b[0;31mTypeError\u001b[0m                                 Traceback (most recent call last)",
      "\u001b[1;32m/Users/eugen/Desktop/Work/Git/suicidal-ideation-on-twitter/suicide-classification.ipynb Cell 19\u001b[0m in \u001b[0;36m<cell line: 2>\u001b[0;34m()\u001b[0m\n\u001b[1;32m      <a href='vscode-notebook-cell:/Users/eugen/Desktop/Work/Git/suicidal-ideation-on-twitter/suicide-classification.ipynb#X36sZmlsZQ%3D%3D?line=0'>1</a>\u001b[0m \u001b[39m# remove contractions from dataset\u001b[39;00m\n\u001b[0;32m----> <a href='vscode-notebook-cell:/Users/eugen/Desktop/Work/Git/suicidal-ideation-on-twitter/suicide-classification.ipynb#X36sZmlsZQ%3D%3D?line=1'>2</a>\u001b[0m reddit_data[\u001b[39m'\u001b[39m\u001b[39mclean_text\u001b[39m\u001b[39m'\u001b[39m] \u001b[39m=\u001b[39m reddit_data[\u001b[39m'\u001b[39;49m\u001b[39mtext\u001b[39;49m\u001b[39m'\u001b[39;49m]\u001b[39m.\u001b[39;49mapply(\u001b[39mlambda\u001b[39;49;00m x: expand_contractions(x, contractions_dict))\n",
      "File \u001b[0;32m~/opt/anaconda3/envs/CapstoneProject/lib/python3.10/site-packages/pandas/core/series.py:4433\u001b[0m, in \u001b[0;36mSeries.apply\u001b[0;34m(self, func, convert_dtype, args, **kwargs)\u001b[0m\n\u001b[1;32m   4323\u001b[0m \u001b[39mdef\u001b[39;00m \u001b[39mapply\u001b[39m(\n\u001b[1;32m   4324\u001b[0m     \u001b[39mself\u001b[39m,\n\u001b[1;32m   4325\u001b[0m     func: AggFuncType,\n\u001b[0;32m   (...)\u001b[0m\n\u001b[1;32m   4328\u001b[0m     \u001b[39m*\u001b[39m\u001b[39m*\u001b[39mkwargs,\n\u001b[1;32m   4329\u001b[0m ) \u001b[39m-\u001b[39m\u001b[39m>\u001b[39m DataFrame \u001b[39m|\u001b[39m Series:\n\u001b[1;32m   4330\u001b[0m     \u001b[39m\"\"\"\u001b[39;00m\n\u001b[1;32m   4331\u001b[0m \u001b[39m    Invoke function on values of Series.\u001b[39;00m\n\u001b[1;32m   4332\u001b[0m \n\u001b[0;32m   (...)\u001b[0m\n\u001b[1;32m   4431\u001b[0m \u001b[39m    dtype: float64\u001b[39;00m\n\u001b[1;32m   4432\u001b[0m \u001b[39m    \"\"\"\u001b[39;00m\n\u001b[0;32m-> 4433\u001b[0m     \u001b[39mreturn\u001b[39;00m SeriesApply(\u001b[39mself\u001b[39;49m, func, convert_dtype, args, kwargs)\u001b[39m.\u001b[39;49mapply()\n",
      "File \u001b[0;32m~/opt/anaconda3/envs/CapstoneProject/lib/python3.10/site-packages/pandas/core/apply.py:1088\u001b[0m, in \u001b[0;36mSeriesApply.apply\u001b[0;34m(self)\u001b[0m\n\u001b[1;32m   1084\u001b[0m \u001b[39mif\u001b[39;00m \u001b[39misinstance\u001b[39m(\u001b[39mself\u001b[39m\u001b[39m.\u001b[39mf, \u001b[39mstr\u001b[39m):\n\u001b[1;32m   1085\u001b[0m     \u001b[39m# if we are a string, try to dispatch\u001b[39;00m\n\u001b[1;32m   1086\u001b[0m     \u001b[39mreturn\u001b[39;00m \u001b[39mself\u001b[39m\u001b[39m.\u001b[39mapply_str()\n\u001b[0;32m-> 1088\u001b[0m \u001b[39mreturn\u001b[39;00m \u001b[39mself\u001b[39;49m\u001b[39m.\u001b[39;49mapply_standard()\n",
      "File \u001b[0;32m~/opt/anaconda3/envs/CapstoneProject/lib/python3.10/site-packages/pandas/core/apply.py:1143\u001b[0m, in \u001b[0;36mSeriesApply.apply_standard\u001b[0;34m(self)\u001b[0m\n\u001b[1;32m   1137\u001b[0m         values \u001b[39m=\u001b[39m obj\u001b[39m.\u001b[39mastype(\u001b[39mobject\u001b[39m)\u001b[39m.\u001b[39m_values\n\u001b[1;32m   1138\u001b[0m         \u001b[39m# error: Argument 2 to \"map_infer\" has incompatible type\u001b[39;00m\n\u001b[1;32m   1139\u001b[0m         \u001b[39m# \"Union[Callable[..., Any], str, List[Union[Callable[..., Any], str]],\u001b[39;00m\n\u001b[1;32m   1140\u001b[0m         \u001b[39m# Dict[Hashable, Union[Union[Callable[..., Any], str],\u001b[39;00m\n\u001b[1;32m   1141\u001b[0m         \u001b[39m# List[Union[Callable[..., Any], str]]]]]\"; expected\u001b[39;00m\n\u001b[1;32m   1142\u001b[0m         \u001b[39m# \"Callable[[Any], Any]\"\u001b[39;00m\n\u001b[0;32m-> 1143\u001b[0m         mapped \u001b[39m=\u001b[39m lib\u001b[39m.\u001b[39;49mmap_infer(\n\u001b[1;32m   1144\u001b[0m             values,\n\u001b[1;32m   1145\u001b[0m             f,  \u001b[39m# type: ignore[arg-type]\u001b[39;49;00m\n\u001b[1;32m   1146\u001b[0m             convert\u001b[39m=\u001b[39;49m\u001b[39mself\u001b[39;49m\u001b[39m.\u001b[39;49mconvert_dtype,\n\u001b[1;32m   1147\u001b[0m         )\n\u001b[1;32m   1149\u001b[0m \u001b[39mif\u001b[39;00m \u001b[39mlen\u001b[39m(mapped) \u001b[39mand\u001b[39;00m \u001b[39misinstance\u001b[39m(mapped[\u001b[39m0\u001b[39m], ABCSeries):\n\u001b[1;32m   1150\u001b[0m     \u001b[39m# GH#43986 Need to do list(mapped) in order to get treated as nested\u001b[39;00m\n\u001b[1;32m   1151\u001b[0m     \u001b[39m#  See also GH#25959 regarding EA support\u001b[39;00m\n\u001b[1;32m   1152\u001b[0m     \u001b[39mreturn\u001b[39;00m obj\u001b[39m.\u001b[39m_constructor_expanddim(\u001b[39mlist\u001b[39m(mapped), index\u001b[39m=\u001b[39mobj\u001b[39m.\u001b[39mindex)\n",
      "File \u001b[0;32m~/opt/anaconda3/envs/CapstoneProject/lib/python3.10/site-packages/pandas/_libs/lib.pyx:2870\u001b[0m, in \u001b[0;36mpandas._libs.lib.map_infer\u001b[0;34m()\u001b[0m\n",
      "\u001b[1;32m/Users/eugen/Desktop/Work/Git/suicidal-ideation-on-twitter/suicide-classification.ipynb Cell 19\u001b[0m in \u001b[0;36m<lambda>\u001b[0;34m(x)\u001b[0m\n\u001b[1;32m      <a href='vscode-notebook-cell:/Users/eugen/Desktop/Work/Git/suicidal-ideation-on-twitter/suicide-classification.ipynb#X36sZmlsZQ%3D%3D?line=0'>1</a>\u001b[0m \u001b[39m# remove contractions from dataset\u001b[39;00m\n\u001b[0;32m----> <a href='vscode-notebook-cell:/Users/eugen/Desktop/Work/Git/suicidal-ideation-on-twitter/suicide-classification.ipynb#X36sZmlsZQ%3D%3D?line=1'>2</a>\u001b[0m reddit_data[\u001b[39m'\u001b[39m\u001b[39mclean_text\u001b[39m\u001b[39m'\u001b[39m] \u001b[39m=\u001b[39m reddit_data[\u001b[39m'\u001b[39m\u001b[39mtext\u001b[39m\u001b[39m'\u001b[39m]\u001b[39m.\u001b[39mapply(\u001b[39mlambda\u001b[39;00m x: expand_contractions(x, contractions_dict))\n",
      "\u001b[1;32m/Users/eugen/Desktop/Work/Git/suicidal-ideation-on-twitter/suicide-classification.ipynb Cell 19\u001b[0m in \u001b[0;36mexpand_contractions\u001b[0;34m(text, contraction_mapping)\u001b[0m\n\u001b[1;32m    <a href='vscode-notebook-cell:/Users/eugen/Desktop/Work/Git/suicidal-ideation-on-twitter/suicide-classification.ipynb#X36sZmlsZQ%3D%3D?line=145'>146</a>\u001b[0m     expanded_contraction \u001b[39m=\u001b[39m first_char\u001b[39m+\u001b[39mexpanded_contraction[\u001b[39m1\u001b[39m:]\n\u001b[1;32m    <a href='vscode-notebook-cell:/Users/eugen/Desktop/Work/Git/suicidal-ideation-on-twitter/suicide-classification.ipynb#X36sZmlsZQ%3D%3D?line=146'>147</a>\u001b[0m     \u001b[39mreturn\u001b[39;00m expanded_contraction\n\u001b[0;32m--> <a href='vscode-notebook-cell:/Users/eugen/Desktop/Work/Git/suicidal-ideation-on-twitter/suicide-classification.ipynb#X36sZmlsZQ%3D%3D?line=148'>149</a>\u001b[0m expanded_text \u001b[39m=\u001b[39m contractions_pattern\u001b[39m.\u001b[39;49msub(expand_match, text)\n\u001b[1;32m    <a href='vscode-notebook-cell:/Users/eugen/Desktop/Work/Git/suicidal-ideation-on-twitter/suicide-classification.ipynb#X36sZmlsZQ%3D%3D?line=149'>150</a>\u001b[0m expanded_text \u001b[39m=\u001b[39m re\u001b[39m.\u001b[39msub(\u001b[39m\"\u001b[39m\u001b[39m'\u001b[39m\u001b[39m\"\u001b[39m, \u001b[39m\"\u001b[39m\u001b[39m\"\u001b[39m, expanded_text)\n\u001b[1;32m    <a href='vscode-notebook-cell:/Users/eugen/Desktop/Work/Git/suicidal-ideation-on-twitter/suicide-classification.ipynb#X36sZmlsZQ%3D%3D?line=150'>151</a>\u001b[0m \u001b[39mreturn\u001b[39;00m expanded_text\n",
      "\u001b[1;32m/Users/eugen/Desktop/Work/Git/suicidal-ideation-on-twitter/suicide-classification.ipynb Cell 19\u001b[0m in \u001b[0;36mexpand_contractions.<locals>.expand_match\u001b[0;34m(contraction)\u001b[0m\n\u001b[1;32m    <a href='vscode-notebook-cell:/Users/eugen/Desktop/Work/Git/suicidal-ideation-on-twitter/suicide-classification.ipynb#X36sZmlsZQ%3D%3D?line=141'>142</a>\u001b[0m first_char \u001b[39m=\u001b[39m match[\u001b[39m0\u001b[39m]\n\u001b[1;32m    <a href='vscode-notebook-cell:/Users/eugen/Desktop/Work/Git/suicidal-ideation-on-twitter/suicide-classification.ipynb#X36sZmlsZQ%3D%3D?line=142'>143</a>\u001b[0m expanded_contraction \u001b[39m=\u001b[39m contraction_mapping\u001b[39m.\u001b[39mget(match)\\\n\u001b[1;32m    <a href='vscode-notebook-cell:/Users/eugen/Desktop/Work/Git/suicidal-ideation-on-twitter/suicide-classification.ipynb#X36sZmlsZQ%3D%3D?line=143'>144</a>\u001b[0m                         \u001b[39mif\u001b[39;00m contraction_mapping\u001b[39m.\u001b[39mget(match)\\\n\u001b[1;32m    <a href='vscode-notebook-cell:/Users/eugen/Desktop/Work/Git/suicidal-ideation-on-twitter/suicide-classification.ipynb#X36sZmlsZQ%3D%3D?line=144'>145</a>\u001b[0m                         \u001b[39melse\u001b[39;00m contraction_mapping\u001b[39m.\u001b[39mget(match\u001b[39m.\u001b[39mlower())                       \n\u001b[0;32m--> <a href='vscode-notebook-cell:/Users/eugen/Desktop/Work/Git/suicidal-ideation-on-twitter/suicide-classification.ipynb#X36sZmlsZQ%3D%3D?line=145'>146</a>\u001b[0m expanded_contraction \u001b[39m=\u001b[39m first_char\u001b[39m+\u001b[39mexpanded_contraction[\u001b[39m1\u001b[39;49m:]\n\u001b[1;32m    <a href='vscode-notebook-cell:/Users/eugen/Desktop/Work/Git/suicidal-ideation-on-twitter/suicide-classification.ipynb#X36sZmlsZQ%3D%3D?line=146'>147</a>\u001b[0m \u001b[39mreturn\u001b[39;00m expanded_contraction\n",
      "\u001b[0;31mTypeError\u001b[0m: 'NoneType' object is not subscriptable"
     ]
    }
   ],
   "source": [
    "# remove contractions from dataset\n",
    "reddit_data['clean_text'] = reddit_data['text'].apply(lambda x: expand_contractions(x, contractions_dict))\n",
    "reddit_data.head()"
   ]
  },
  {
   "cell_type": "code",
   "execution_count": null,
   "metadata": {},
   "outputs": [],
   "source": [
    "#which specific contraction methods to use? \n",
    "#may be compare different contraction methods and their accuracy before?\n",
    "\n",
    "#using a dictionary has disadvantages. e.g. Jack's wine will be converted to Jack is wine. It doesn't care about the context of the word. "
   ]
  },
  {
   "cell_type": "markdown",
   "metadata": {},
   "source": [
    "Footnote: contraction dictionary from [Analytics Vidya](https://www.analyticsvidhya.com/blog/2020/04/beginners-guide-exploratory-data-analysis-text-data/)"
   ]
  },
  {
   "cell_type": "code",
   "execution_count": 23,
   "metadata": {},
   "outputs": [],
   "source": [
    "#finding the contractions in our dataset's text\n",
    "pattern = r\"\"\" (?x)\n",
    "        \n",
    "\n",
    "\n",
    "\"\"\""
   ]
  },
  {
   "cell_type": "code",
   "execution_count": 10,
   "metadata": {},
   "outputs": [
    {
     "ename": "TypeError",
     "evalue": "expected string or bytes-like object",
     "output_type": "error",
     "traceback": [
      "\u001b[0;31m---------------------------------------------------------------------------\u001b[0m",
      "\u001b[0;31mTypeError\u001b[0m                                 Traceback (most recent call last)",
      "\u001b[1;32m/Users/eugen/Desktop/Work/Git/suicidal-ideation-on-twitter/suicide-classification.ipynb Cell 14\u001b[0m in \u001b[0;36m<cell line: 10>\u001b[0;34m()\u001b[0m\n\u001b[1;32m      <a href='vscode-notebook-cell:/Users/eugen/Desktop/Work/Git/suicidal-ideation-on-twitter/suicide-classification.ipynb#X16sZmlsZQ%3D%3D?line=6'>7</a>\u001b[0m     \u001b[39mreturn\u001b[39;00m contractions_re\u001b[39m.\u001b[39msub(replace, text)\n\u001b[1;32m      <a href='vscode-notebook-cell:/Users/eugen/Desktop/Work/Git/suicidal-ideation-on-twitter/suicide-classification.ipynb#X16sZmlsZQ%3D%3D?line=8'>9</a>\u001b[0m \u001b[39m# Expanding Contractions in the reviews\u001b[39;00m\n\u001b[0;32m---> <a href='vscode-notebook-cell:/Users/eugen/Desktop/Work/Git/suicidal-ideation-on-twitter/suicide-classification.ipynb#X16sZmlsZQ%3D%3D?line=9'>10</a>\u001b[0m reddit_data[\u001b[39m'\u001b[39m\u001b[39mtext\u001b[39m\u001b[39m'\u001b[39m]\u001b[39m=\u001b[39m reddit_data[\u001b[39m'\u001b[39;49m\u001b[39mtext\u001b[39;49m\u001b[39m'\u001b[39;49m]\u001b[39m.\u001b[39;49mapply(\u001b[39mlambda\u001b[39;49;00m x:expand_contractions(x))\n",
      "File \u001b[0;32m~/opt/anaconda3/envs/CapstoneProject/lib/python3.10/site-packages/pandas/core/series.py:4433\u001b[0m, in \u001b[0;36mSeries.apply\u001b[0;34m(self, func, convert_dtype, args, **kwargs)\u001b[0m\n\u001b[1;32m   4323\u001b[0m \u001b[39mdef\u001b[39;00m \u001b[39mapply\u001b[39m(\n\u001b[1;32m   4324\u001b[0m     \u001b[39mself\u001b[39m,\n\u001b[1;32m   4325\u001b[0m     func: AggFuncType,\n\u001b[0;32m   (...)\u001b[0m\n\u001b[1;32m   4328\u001b[0m     \u001b[39m*\u001b[39m\u001b[39m*\u001b[39mkwargs,\n\u001b[1;32m   4329\u001b[0m ) \u001b[39m-\u001b[39m\u001b[39m>\u001b[39m DataFrame \u001b[39m|\u001b[39m Series:\n\u001b[1;32m   4330\u001b[0m     \u001b[39m\"\"\"\u001b[39;00m\n\u001b[1;32m   4331\u001b[0m \u001b[39m    Invoke function on values of Series.\u001b[39;00m\n\u001b[1;32m   4332\u001b[0m \n\u001b[0;32m   (...)\u001b[0m\n\u001b[1;32m   4431\u001b[0m \u001b[39m    dtype: float64\u001b[39;00m\n\u001b[1;32m   4432\u001b[0m \u001b[39m    \"\"\"\u001b[39;00m\n\u001b[0;32m-> 4433\u001b[0m     \u001b[39mreturn\u001b[39;00m SeriesApply(\u001b[39mself\u001b[39;49m, func, convert_dtype, args, kwargs)\u001b[39m.\u001b[39;49mapply()\n",
      "File \u001b[0;32m~/opt/anaconda3/envs/CapstoneProject/lib/python3.10/site-packages/pandas/core/apply.py:1088\u001b[0m, in \u001b[0;36mSeriesApply.apply\u001b[0;34m(self)\u001b[0m\n\u001b[1;32m   1084\u001b[0m \u001b[39mif\u001b[39;00m \u001b[39misinstance\u001b[39m(\u001b[39mself\u001b[39m\u001b[39m.\u001b[39mf, \u001b[39mstr\u001b[39m):\n\u001b[1;32m   1085\u001b[0m     \u001b[39m# if we are a string, try to dispatch\u001b[39;00m\n\u001b[1;32m   1086\u001b[0m     \u001b[39mreturn\u001b[39;00m \u001b[39mself\u001b[39m\u001b[39m.\u001b[39mapply_str()\n\u001b[0;32m-> 1088\u001b[0m \u001b[39mreturn\u001b[39;00m \u001b[39mself\u001b[39;49m\u001b[39m.\u001b[39;49mapply_standard()\n",
      "File \u001b[0;32m~/opt/anaconda3/envs/CapstoneProject/lib/python3.10/site-packages/pandas/core/apply.py:1143\u001b[0m, in \u001b[0;36mSeriesApply.apply_standard\u001b[0;34m(self)\u001b[0m\n\u001b[1;32m   1137\u001b[0m         values \u001b[39m=\u001b[39m obj\u001b[39m.\u001b[39mastype(\u001b[39mobject\u001b[39m)\u001b[39m.\u001b[39m_values\n\u001b[1;32m   1138\u001b[0m         \u001b[39m# error: Argument 2 to \"map_infer\" has incompatible type\u001b[39;00m\n\u001b[1;32m   1139\u001b[0m         \u001b[39m# \"Union[Callable[..., Any], str, List[Union[Callable[..., Any], str]],\u001b[39;00m\n\u001b[1;32m   1140\u001b[0m         \u001b[39m# Dict[Hashable, Union[Union[Callable[..., Any], str],\u001b[39;00m\n\u001b[1;32m   1141\u001b[0m         \u001b[39m# List[Union[Callable[..., Any], str]]]]]\"; expected\u001b[39;00m\n\u001b[1;32m   1142\u001b[0m         \u001b[39m# \"Callable[[Any], Any]\"\u001b[39;00m\n\u001b[0;32m-> 1143\u001b[0m         mapped \u001b[39m=\u001b[39m lib\u001b[39m.\u001b[39;49mmap_infer(\n\u001b[1;32m   1144\u001b[0m             values,\n\u001b[1;32m   1145\u001b[0m             f,  \u001b[39m# type: ignore[arg-type]\u001b[39;49;00m\n\u001b[1;32m   1146\u001b[0m             convert\u001b[39m=\u001b[39;49m\u001b[39mself\u001b[39;49m\u001b[39m.\u001b[39;49mconvert_dtype,\n\u001b[1;32m   1147\u001b[0m         )\n\u001b[1;32m   1149\u001b[0m \u001b[39mif\u001b[39;00m \u001b[39mlen\u001b[39m(mapped) \u001b[39mand\u001b[39;00m \u001b[39misinstance\u001b[39m(mapped[\u001b[39m0\u001b[39m], ABCSeries):\n\u001b[1;32m   1150\u001b[0m     \u001b[39m# GH#43986 Need to do list(mapped) in order to get treated as nested\u001b[39;00m\n\u001b[1;32m   1151\u001b[0m     \u001b[39m#  See also GH#25959 regarding EA support\u001b[39;00m\n\u001b[1;32m   1152\u001b[0m     \u001b[39mreturn\u001b[39;00m obj\u001b[39m.\u001b[39m_constructor_expanddim(\u001b[39mlist\u001b[39m(mapped), index\u001b[39m=\u001b[39mobj\u001b[39m.\u001b[39mindex)\n",
      "File \u001b[0;32m~/opt/anaconda3/envs/CapstoneProject/lib/python3.10/site-packages/pandas/_libs/lib.pyx:2870\u001b[0m, in \u001b[0;36mpandas._libs.lib.map_infer\u001b[0;34m()\u001b[0m\n",
      "\u001b[1;32m/Users/eugen/Desktop/Work/Git/suicidal-ideation-on-twitter/suicide-classification.ipynb Cell 14\u001b[0m in \u001b[0;36m<lambda>\u001b[0;34m(x)\u001b[0m\n\u001b[1;32m      <a href='vscode-notebook-cell:/Users/eugen/Desktop/Work/Git/suicidal-ideation-on-twitter/suicide-classification.ipynb#X16sZmlsZQ%3D%3D?line=6'>7</a>\u001b[0m     \u001b[39mreturn\u001b[39;00m contractions_re\u001b[39m.\u001b[39msub(replace, text)\n\u001b[1;32m      <a href='vscode-notebook-cell:/Users/eugen/Desktop/Work/Git/suicidal-ideation-on-twitter/suicide-classification.ipynb#X16sZmlsZQ%3D%3D?line=8'>9</a>\u001b[0m \u001b[39m# Expanding Contractions in the reviews\u001b[39;00m\n\u001b[0;32m---> <a href='vscode-notebook-cell:/Users/eugen/Desktop/Work/Git/suicidal-ideation-on-twitter/suicide-classification.ipynb#X16sZmlsZQ%3D%3D?line=9'>10</a>\u001b[0m reddit_data[\u001b[39m'\u001b[39m\u001b[39mtext\u001b[39m\u001b[39m'\u001b[39m]\u001b[39m=\u001b[39m reddit_data[\u001b[39m'\u001b[39m\u001b[39mtext\u001b[39m\u001b[39m'\u001b[39m]\u001b[39m.\u001b[39mapply(\u001b[39mlambda\u001b[39;00m x:expand_contractions(x))\n",
      "\u001b[1;32m/Users/eugen/Desktop/Work/Git/suicidal-ideation-on-twitter/suicide-classification.ipynb Cell 14\u001b[0m in \u001b[0;36mexpand_contractions\u001b[0;34m(text, contractions_dict)\u001b[0m\n\u001b[1;32m      <a href='vscode-notebook-cell:/Users/eugen/Desktop/Work/Git/suicidal-ideation-on-twitter/suicide-classification.ipynb#X16sZmlsZQ%3D%3D?line=4'>5</a>\u001b[0m \u001b[39mdef\u001b[39;00m \u001b[39mreplace\u001b[39m(match):\n\u001b[1;32m      <a href='vscode-notebook-cell:/Users/eugen/Desktop/Work/Git/suicidal-ideation-on-twitter/suicide-classification.ipynb#X16sZmlsZQ%3D%3D?line=5'>6</a>\u001b[0m     \u001b[39mreturn\u001b[39;00m contractions_dict[match\u001b[39m.\u001b[39mgroup(\u001b[39m0\u001b[39m)]\n\u001b[0;32m----> <a href='vscode-notebook-cell:/Users/eugen/Desktop/Work/Git/suicidal-ideation-on-twitter/suicide-classification.ipynb#X16sZmlsZQ%3D%3D?line=6'>7</a>\u001b[0m \u001b[39mreturn\u001b[39;00m contractions_re\u001b[39m.\u001b[39;49msub(replace, text)\n",
      "\u001b[0;31mTypeError\u001b[0m: expected string or bytes-like object"
     ]
    }
   ],
   "source": [
    "# Regular expression for finding contractions\n",
    "contractions_re = re.compile('(%s)' % '|'.join(contractions_dict.keys()))\n",
    "# Function for expanding contractions\n",
    "def expand_contractions(text,contractions_dict=contractions_dict):\n",
    "    def replace(match):\n",
    "    return contractions_dict[match.group(0)]\n",
    "    return contractions_re.sub(replace, text)\n",
    "\n",
    "# Expanding Contractions in the reviews\n",
    "reddit_data['text']= reddit_data['text'].apply(lambda x:expand_contractions(x))"
   ]
  },
  {
   "cell_type": "code",
   "execution_count": 9,
   "metadata": {},
   "outputs": [
    {
     "data": {
      "text/html": [
       "<div>\n",
       "<style scoped>\n",
       "    .dataframe tbody tr th:only-of-type {\n",
       "        vertical-align: middle;\n",
       "    }\n",
       "\n",
       "    .dataframe tbody tr th {\n",
       "        vertical-align: top;\n",
       "    }\n",
       "\n",
       "    .dataframe thead th {\n",
       "        text-align: right;\n",
       "    }\n",
       "</style>\n",
       "<table border=\"1\" class=\"dataframe\">\n",
       "  <thead>\n",
       "    <tr style=\"text-align: right;\">\n",
       "      <th></th>\n",
       "      <th>text</th>\n",
       "      <th>class</th>\n",
       "    </tr>\n",
       "  </thead>\n",
       "  <tbody>\n",
       "    <tr>\n",
       "      <th>0</th>\n",
       "      <td>None</td>\n",
       "      <td>suicide</td>\n",
       "    </tr>\n",
       "    <tr>\n",
       "      <th>1</th>\n",
       "      <td>None</td>\n",
       "      <td>non-suicide</td>\n",
       "    </tr>\n",
       "    <tr>\n",
       "      <th>2</th>\n",
       "      <td>None</td>\n",
       "      <td>non-suicide</td>\n",
       "    </tr>\n",
       "    <tr>\n",
       "      <th>3</th>\n",
       "      <td>None</td>\n",
       "      <td>suicide</td>\n",
       "    </tr>\n",
       "    <tr>\n",
       "      <th>4</th>\n",
       "      <td>None</td>\n",
       "      <td>suicide</td>\n",
       "    </tr>\n",
       "  </tbody>\n",
       "</table>\n",
       "</div>"
      ],
      "text/plain": [
       "   text        class\n",
       "0  None      suicide\n",
       "1  None  non-suicide\n",
       "2  None  non-suicide\n",
       "3  None      suicide\n",
       "4  None      suicide"
      ]
     },
     "execution_count": 9,
     "metadata": {},
     "output_type": "execute_result"
    }
   ],
   "source": [
    "reddit_data.head()"
   ]
  },
  {
   "cell_type": "code",
   "execution_count": null,
   "metadata": {},
   "outputs": [],
   "source": [
    "## feature enginneering\n",
    "def count_chars(text):\n",
    "    \"\"\"\n",
    "    Takes in a string of text and counts the number of characters\n",
    "    \"\"\"\n",
    "    return len(text)\n",
    "\n",
    "def count_words(text):\n",
    "    \"\"\"\n",
    "    Takes in a string of text and counts the number of words\n",
    "    \"\"\"\n",
    "    return len(text.split())\n",
    "\n",
    "def unique_words(text):\n",
    "    \"\"\"\n",
    "    Takes in a string of text and counts the number of unique words\n",
    "    \"\"\"\n",
    "    return(len(set(text.split())))\n",
    "\n",
    "def question_counts(text):\n",
    "    \"\"\"\n",
    "    Takes in a string of text and counts the number question marks\n",
    "    \"\"\"\n",
    "    return adv.extract_questions(text)['question_mark_counts'][0]\n",
    "\n",
    "def url(text):\n",
    "    \"\"\"\n",
    "    Takes in a string of text, determines if string starts with 'http', then counts it \n",
    "    as a link\n",
    "    \"\"\"\n",
    "    url_count = 0\n",
    "\n",
    "    text = text.split()\n",
    "    for i in text:\n",
    "        if i.startswith('http'):\n",
    "            url_count += url_count\n",
    "    return url_count\n"
   ]
  },
  {
   "cell_type": "code",
   "execution_count": null,
   "metadata": {},
   "outputs": [
    {
     "data": {
      "text/html": [
       "<div>\n",
       "<style scoped>\n",
       "    .dataframe tbody tr th:only-of-type {\n",
       "        vertical-align: middle;\n",
       "    }\n",
       "\n",
       "    .dataframe tbody tr th {\n",
       "        vertical-align: top;\n",
       "    }\n",
       "\n",
       "    .dataframe thead th {\n",
       "        text-align: right;\n",
       "    }\n",
       "</style>\n",
       "<table border=\"1\" class=\"dataframe\">\n",
       "  <thead>\n",
       "    <tr style=\"text-align: right;\">\n",
       "      <th></th>\n",
       "      <th>text</th>\n",
       "      <th>class</th>\n",
       "      <th>number_chars</th>\n",
       "      <th>number_words</th>\n",
       "      <th>unique_words</th>\n",
       "      <th>num_questions</th>\n",
       "      <th>url_count</th>\n",
       "    </tr>\n",
       "  </thead>\n",
       "  <tbody>\n",
       "    <tr>\n",
       "      <th>0</th>\n",
       "      <td>Ex Wife Threatening SuicideRecently I left my ...</td>\n",
       "      <td>suicide</td>\n",
       "      <td>715</td>\n",
       "      <td>143</td>\n",
       "      <td>99</td>\n",
       "      <td>2</td>\n",
       "      <td>0</td>\n",
       "    </tr>\n",
       "    <tr>\n",
       "      <th>1</th>\n",
       "      <td>Am I weird I don't get affected by compliments...</td>\n",
       "      <td>non-suicide</td>\n",
       "      <td>138</td>\n",
       "      <td>27</td>\n",
       "      <td>24</td>\n",
       "      <td>0</td>\n",
       "      <td>0</td>\n",
       "    </tr>\n",
       "    <tr>\n",
       "      <th>2</th>\n",
       "      <td>Finally 2020 is almost over... So I can never ...</td>\n",
       "      <td>non-suicide</td>\n",
       "      <td>129</td>\n",
       "      <td>26</td>\n",
       "      <td>25</td>\n",
       "      <td>0</td>\n",
       "      <td>0</td>\n",
       "    </tr>\n",
       "    <tr>\n",
       "      <th>3</th>\n",
       "      <td>i need helpjust help me im crying so hard</td>\n",
       "      <td>suicide</td>\n",
       "      <td>41</td>\n",
       "      <td>9</td>\n",
       "      <td>9</td>\n",
       "      <td>0</td>\n",
       "      <td>0</td>\n",
       "    </tr>\n",
       "    <tr>\n",
       "      <th>4</th>\n",
       "      <td>I’m so lostHello, my name is Adam (16) and I’v...</td>\n",
       "      <td>suicide</td>\n",
       "      <td>2426</td>\n",
       "      <td>438</td>\n",
       "      <td>254</td>\n",
       "      <td>3</td>\n",
       "      <td>0</td>\n",
       "    </tr>\n",
       "  </tbody>\n",
       "</table>\n",
       "</div>"
      ],
      "text/plain": [
       "                                                text        class  \\\n",
       "0  Ex Wife Threatening SuicideRecently I left my ...      suicide   \n",
       "1  Am I weird I don't get affected by compliments...  non-suicide   \n",
       "2  Finally 2020 is almost over... So I can never ...  non-suicide   \n",
       "3          i need helpjust help me im crying so hard      suicide   \n",
       "4  I’m so lostHello, my name is Adam (16) and I’v...      suicide   \n",
       "\n",
       "   number_chars  number_words  unique_words  num_questions  url_count  \n",
       "0           715           143            99              2          0  \n",
       "1           138            27            24              0          0  \n",
       "2           129            26            25              0          0  \n",
       "3            41             9             9              0          0  \n",
       "4          2426           438           254              3          0  "
      ]
     },
     "metadata": {},
     "output_type": "display_data"
    }
   ],
   "source": [
    "reddit_data['number_chars'] = reddit_data['text'].apply(lambda x:count_chars(x))\n",
    "reddit_data['number_words'] = reddit_data['text'].apply(lambda x:count_words(x))\n",
    "reddit_data['unique_words'] = reddit_data['text'].apply(lambda x:unique_words(x))\n",
    "reddit_data['num_questions'] = reddit_data['text'].apply(lambda x:question_counts(x))\n",
    "reddit_data['url_count'] = reddit_data['text'].apply(lambda x:url(x))\n",
    "\n",
    "reddit_data.head()"
   ]
  },
  {
   "cell_type": "code",
   "execution_count": null,
   "metadata": {},
   "outputs": [
    {
     "data": {
      "text/html": [
       "<div>\n",
       "<style scoped>\n",
       "    .dataframe tbody tr th:only-of-type {\n",
       "        vertical-align: middle;\n",
       "    }\n",
       "\n",
       "    .dataframe tbody tr th {\n",
       "        vertical-align: top;\n",
       "    }\n",
       "\n",
       "    .dataframe thead th {\n",
       "        text-align: right;\n",
       "    }\n",
       "</style>\n",
       "<table border=\"1\" class=\"dataframe\">\n",
       "  <thead>\n",
       "    <tr style=\"text-align: right;\">\n",
       "      <th></th>\n",
       "      <th>number_chars</th>\n",
       "      <th>number_words</th>\n",
       "      <th>unique_words</th>\n",
       "      <th>num_questions</th>\n",
       "      <th>url_count</th>\n",
       "    </tr>\n",
       "  </thead>\n",
       "  <tbody>\n",
       "    <tr>\n",
       "      <th>count</th>\n",
       "      <td>232074.000000</td>\n",
       "      <td>232074.000000</td>\n",
       "      <td>232074.000000</td>\n",
       "      <td>232074.000000</td>\n",
       "      <td>232074.0</td>\n",
       "    </tr>\n",
       "    <tr>\n",
       "      <th>mean</th>\n",
       "      <td>689.639736</td>\n",
       "      <td>131.925235</td>\n",
       "      <td>80.065910</td>\n",
       "      <td>0.731254</td>\n",
       "      <td>0.0</td>\n",
       "    </tr>\n",
       "    <tr>\n",
       "      <th>std</th>\n",
       "      <td>1156.334007</td>\n",
       "      <td>217.476787</td>\n",
       "      <td>93.782047</td>\n",
       "      <td>23.318268</td>\n",
       "      <td>0.0</td>\n",
       "    </tr>\n",
       "    <tr>\n",
       "      <th>min</th>\n",
       "      <td>3.000000</td>\n",
       "      <td>1.000000</td>\n",
       "      <td>1.000000</td>\n",
       "      <td>0.000000</td>\n",
       "      <td>0.0</td>\n",
       "    </tr>\n",
       "    <tr>\n",
       "      <th>25%</th>\n",
       "      <td>138.000000</td>\n",
       "      <td>26.000000</td>\n",
       "      <td>23.000000</td>\n",
       "      <td>0.000000</td>\n",
       "      <td>0.0</td>\n",
       "    </tr>\n",
       "    <tr>\n",
       "      <th>50%</th>\n",
       "      <td>315.000000</td>\n",
       "      <td>60.000000</td>\n",
       "      <td>47.000000</td>\n",
       "      <td>0.000000</td>\n",
       "      <td>0.0</td>\n",
       "    </tr>\n",
       "    <tr>\n",
       "      <th>75%</th>\n",
       "      <td>801.000000</td>\n",
       "      <td>155.000000</td>\n",
       "      <td>104.000000</td>\n",
       "      <td>1.000000</td>\n",
       "      <td>0.0</td>\n",
       "    </tr>\n",
       "    <tr>\n",
       "      <th>max</th>\n",
       "      <td>40297.000000</td>\n",
       "      <td>9684.000000</td>\n",
       "      <td>5010.000000</td>\n",
       "      <td>8209.000000</td>\n",
       "      <td>0.0</td>\n",
       "    </tr>\n",
       "  </tbody>\n",
       "</table>\n",
       "</div>"
      ],
      "text/plain": [
       "        number_chars   number_words   unique_words  num_questions  url_count\n",
       "count  232074.000000  232074.000000  232074.000000  232074.000000   232074.0\n",
       "mean      689.639736     131.925235      80.065910       0.731254        0.0\n",
       "std      1156.334007     217.476787      93.782047      23.318268        0.0\n",
       "min         3.000000       1.000000       1.000000       0.000000        0.0\n",
       "25%       138.000000      26.000000      23.000000       0.000000        0.0\n",
       "50%       315.000000      60.000000      47.000000       0.000000        0.0\n",
       "75%       801.000000     155.000000     104.000000       1.000000        0.0\n",
       "max     40297.000000    9684.000000    5010.000000    8209.000000        0.0"
      ]
     },
     "metadata": {},
     "output_type": "display_data"
    }
   ],
   "source": [
    "reddit_data.describe()"
   ]
  },
  {
   "cell_type": "code",
   "execution_count": null,
   "metadata": {},
   "outputs": [],
   "source": [
    "reddit_data.drop('url_count', axis = 1, inplace=True)"
   ]
  },
  {
   "cell_type": "code",
   "execution_count": null,
   "metadata": {},
   "outputs": [
    {
     "data": {
      "text/plain": [
       "Index(['number_chars', 'number_words', 'unique_words', 'num_questions'], dtype='object')"
      ]
     },
     "metadata": {},
     "output_type": "display_data"
    }
   ],
   "source": [
    "reddit_data.columns[2:]"
   ]
  },
  {
   "cell_type": "code",
   "execution_count": null,
   "metadata": {},
   "outputs": [
    {
     "data": {
      "image/png": "[encoded data removed]",
      "text/plain": [
       "<Figure size 864x576 with 1 Axes>"
      ]
     },
     "metadata": {},
     "output_type": "display_data"
    },
    {
     "data": {
      "image/png": "[encoded data removed]",
      "text/plain": [
       "<Figure size 864x576 with 1 Axes>"
      ]
     },
     "metadata": {},
     "output_type": "display_data"
    },
    {
     "data": {
      "image/png": "[encoded data removed]",
      "text/plain": [
       "<Figure size 864x576 with 1 Axes>"
      ]
     },
     "metadata": {},
     "output_type": "display_data"
    },
    {
     "data": {
      "image/png": "[encoded data removed]",
      "text/plain": [
       "<Figure size 864x576 with 1 Axes>"
      ]
     },
     "metadata": {},
     "output_type": "display_data"
    }
   ],
   "source": [
    "for col in reddit_data.columns[2:]:\n",
    "    plt.figure(figsize=(12, 8))\n",
    "    reddit_data[reddit_data['class']==\"suicide\"][col].plot(bins=35, kind='hist', color='blue', label='suicide post', alpha=0.6)\n",
    "    reddit_data[reddit_data['class']==\"non-suicide\"][col].plot(bins=35, kind='hist', color='red', label='non-suicide post', alpha=0.6)\n",
    "    plt.xlabel(col)\n",
    "    plt.legend()\n",
    "    "
   ]
  }
 ],
 "metadata": {
  "kernelspec": {
   "display_name": "Python 3.10.4 ('CapstoneProject')",
   "language": "python",
   "name": "python3"
  },
  "language_info": {
   "codemirror_mode": {
    "name": "ipython",
    "version": 3
   },
   "file_extension": ".py",
   "mimetype": "text/x-python",
   "name": "python",
   "nbconvert_exporter": "python",
   "pygments_lexer": "ipython3",
   "version": "3.10.4"
  },
  "orig_nbformat": 4,
  "vscode": {
   "interpreter": {
    "hash": "54a460ec127539dfac081485f38c92e43c732149412361e86597afed93cd99b2"
   }
  }
 },
 "nbformat": 4,
 "nbformat_minor": 2
}
